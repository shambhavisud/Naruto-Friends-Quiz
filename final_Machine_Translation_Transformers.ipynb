{
  "nbformat": 4,
  "nbformat_minor": 0,
  "metadata": {
    "colab": {
      "name": "final_Machine_Translation_Transformers.ipynb",
      "provenance": [],
      "collapsed_sections": [],
      "include_colab_link": true
    },
    "kernelspec": {
      "name": "python3",
      "display_name": "Python 3"
    },
    "language_info": {
      "name": "python"
    },
    "accelerator": "GPU"
  },
  "cells": [
    {
      "cell_type": "markdown",
      "metadata": {
        "id": "view-in-github",
        "colab_type": "text"
      },
      "source": [
        "<a href=\"https://colab.research.google.com/github/shambhavisud/Naruto-Friends-Quiz/blob/master/final_Machine_Translation_Transformers.ipynb\" target=\"_parent\"><img src=\"https://colab.research.google.com/assets/colab-badge.svg\" alt=\"Open In Colab\"/></a>"
      ]
    },
    {
      "cell_type": "markdown",
      "metadata": {
        "id": "EUqYrUbpJh5t"
      },
      "source": [
        "## Necessary Imports"
      ]
    },
    {
      "cell_type": "code",
      "metadata": {
        "id": "eD6jlbDHz8W-"
      },
      "source": [
        "import numpy as np\n",
        "import matplotlib.pyplot as plt\n",
        "from tensorflow.keras.callbacks import ModelCheckpoint\n",
        "from sklearn.preprocessing import OneHotEncoder\n",
        "from sklearn.model_selection import train_test_split\n",
        "from collections import defaultdict\n",
        "import string\n",
        "from tensorflow.keras.optimizers import Adam\n",
        "from tensorflow.keras.models import Model\n",
        "import tensorflow as tf\n",
        "import re\n",
        "from tensorflow import keras\n",
        "from tensorflow.keras.layers import Dense, Input\n",
        "import os\n",
        "import time\n",
        "import seaborn as sns\n",
        "import pandas as pd"
      ],
      "execution_count": null,
      "outputs": []
    },
    {
      "cell_type": "code",
      "metadata": {
        "id": "Rqj3nxrr0Ewo"
      },
      "source": [
        "\n",
        "n_size_batch = 64\n",
        "n_size_buffer = n_size_batch*4\n",
        "len_dcdr = 100\n",
        "len_enc = 100"
      ],
      "execution_count": null,
      "outputs": []
    },
    {
      "cell_type": "code",
      "metadata": {
        "id": "l85dXfhE0BYh",
        "colab": {
          "base_uri": "https://localhost:8080/"
        },
        "outputId": "995082b5-6505-4ecb-ce82-b9d499e5373e"
      },
      "source": [
        "from google.colab import drive\n",
        "drive.mount('/content/drive')\n"
      ],
      "execution_count": null,
      "outputs": [
        {
          "output_type": "stream",
          "name": "stdout",
          "text": [
            "Mounted at /content/drive\n"
          ]
        }
      ]
    },
    {
      "cell_type": "markdown",
      "metadata": {
        "id": "BqU9zsYdJ3Hc"
      },
      "source": [
        "#Data Preprocessing\n",
        "<h2>Loading Files</h2>\n",
        "To improve performance of the model, I filtered and deleted phrases that either alot of characters or only a few of them. Both Hindi & English sentences were then tokenized & padded to the fixed length.\n",
        "\n",
        "[link to data](https://www.kaggle.com/aiswaryaramachandran/hindienglish-corpora)"
      ]
    },
    {
      "cell_type": "code",
      "metadata": {
        "id": "EvsSZJxUTkiu"
      },
      "source": [
        "to_df_trn = pd.read_csv(\"/content/drive/My Drive/translation_files/Hindi_English_Truncated_Corpus.csv\")\n",
        "to_df_trn.drop(['source'],axis=1,inplace=True)\n",
        "mask = (to_df_trn['english_sentence'].str.len()>20) & (to_df_trn['english_sentence'].str.len()<200)\n",
        "to_df_trn = to_df_trn.loc[mask]\n",
        "to_df_trn = to_df_trn.sample(64000, random_state=1)\n",
        "to_df_trn.head()\n"
      ],
      "execution_count": null,
      "outputs": []
    },
    {
      "cell_type": "code",
      "metadata": {
        "id": "DjotmONeT5Ly"
      },
      "source": [
        "pd.set_option('display.max_colwidth', None)\n"
      ],
      "execution_count": null,
      "outputs": []
    },
    {
      "cell_type": "code",
      "metadata": {
        "id": "8147W6NeUR-7"
      },
      "source": [
        "English = to_df_trn['english_sentence']\n",
        "Hindi = to_df_trn['hindi_sentence']\n",
        "English = English.apply(lambda x: \"<SOS> \" + str(x) + \" <EOS>\")\n",
        "Hindi = Hindi.apply(lambda x: \"<SOS> \"+ x + \" <EOS>\")"
      ],
      "execution_count": null,
      "outputs": []
    },
    {
      "cell_type": "markdown",
      "source": [
        "# Tokenizing Text"
      ],
      "metadata": {
        "id": "ecxYsZyFmiAZ"
      }
    },
    {
      "cell_type": "code",
      "metadata": {
        "id": "2mRPR8tPUUcS"
      },
      "source": [
        "filters = '!\"#$%&()*+,-./:;=?@[\\\\]^_`{|}~\\t\\n'\n",
        "oov_token = '<unk>'\n",
        "tkniser_en = tf.keras.preprocessing.text.Tokenizer(filters = filters, oov_token=oov_token)\n",
        "tkniser_hi = tf.keras.preprocessing.text.Tokenizer(filters = filters, oov_token=oov_token)\n",
        "tkniser_en.fit_on_texts(English)\n",
        "tkniser_hi.fit_on_texts(Hindi)\n",
        "ips = tkniser_en.texts_to_sequences(English)\n",
        "i_trgts = tkniser_hi.texts_to_sequences(Hindi)"
      ],
      "execution_count": null,
      "outputs": []
    },
    {
      "cell_type": "code",
      "metadata": {
        "id": "LsDChPeuUXsQ",
        "colab": {
          "base_uri": "https://localhost:8080/"
        },
        "outputId": "7436d887-ceda-4fdd-b04a-c774e8e60058"
      },
      "source": [
        "vocab_encdr = len(tkniser_en.word_index) + 1\n",
        "vocab_dcdr = len(tkniser_hi.word_index) + 1\n",
        "print(vocab_encdr, vocab_dcdr)"
      ],
      "execution_count": null,
      "outputs": [
        {
          "output_type": "stream",
          "name": "stdout",
          "text": [
            "44305 51960\n"
          ]
        }
      ]
    },
    {
      "cell_type": "markdown",
      "source": [
        "# Inputs/outputs creation\n",
        "As we train with batches, we need each input to have the same length. We pad with the appropriate token, and we will make sure this padding token doesn't interfere with our training later."
      ],
      "metadata": {
        "id": "D3EA-1_wm9f2"
      }
    },
    {
      "cell_type": "code",
      "metadata": {
        "id": "QuVBpEOCUmDl"
      },
      "source": [
        "ips = tf.keras.preprocessing.sequence.pad_sequences(ips, maxlen=len_enc, padding='post', truncating='post')\n",
        "i_trgts = tf.keras.preprocessing.sequence.pad_sequences(i_trgts, maxlen=len_dcdr, padding='post', truncating='post')\n",
        "ips = tf.cast(ips, dtype=tf.int64)\n",
        "i_trgts = tf.cast(i_trgts, dtype=tf.int64)"
      ],
      "execution_count": null,
      "outputs": []
    },
    {
      "cell_type": "code",
      "metadata": {
        "id": "A_ZGHWXwUrxY"
      },
      "source": [
        "dataset = tf.data.Dataset.from_tensor_slices((ips, i_trgts)).shuffle(n_size_buffer).batch(n_size_batch)"
      ],
      "execution_count": null,
      "outputs": []
    },
    {
      "cell_type": "markdown",
      "metadata": {
        "id": "jwEac4hQLZeD"
      },
      "source": [
        "# Transformer Model Building\n",
        "Here I build a Transformer from scratch.\n"
      ]
    },
    {
      "cell_type": "markdown",
      "source": [
        "## Embedding\n"
      ],
      "metadata": {
        "id": "A7AWZ2JgyAyk"
      }
    },
    {
      "cell_type": "code",
      "metadata": {
        "id": "2OsiG6ZPUt97"
      },
      "source": [
        "def fetch_angles(position, i, d_model):\n",
        "    rts_angle = 1 / np.power(10000, (2 * (i // 2)) / np.float32(d_model))\n",
        "    return position * rts_angle\n",
        "\n",
        "def encd_position(position, d_model):\n",
        "    rds_angl = fetch_angles(\n",
        "        np.arange(position)[:, np.newaxis],\n",
        "        np.arange(d_model)[np.newaxis, :],\n",
        "        d_model\n",
        "    )\n",
        "\n",
        "    rds_angl[:, 0::2] = np.sin(rds_angl[:, 0::2])\n",
        "\n",
        "    rds_angl[:, 1::2] = np.cos(rds_angl[:, 1::2])\n",
        "\n",
        "    encd_pos = rds_angl[np.newaxis, ...]\n",
        "\n",
        "    return tf.cast(encd_pos, dtype=tf.float32)\n",
        "\n",
        "def make_msk_padding(seq):\n",
        "    seq = tf.cast(tf.math.equal(seq, 0), tf.float32)\n",
        "    return seq[:, tf.newaxis, tf.newaxis, :]\n",
        "\n",
        "def make_msk_look_ahead(size):\n",
        "    mask = 1 - tf.linalg.band_part(tf.ones((size, size)), -1, 0)\n",
        "    return mask\n",
        "\n"
      ],
      "execution_count": null,
      "outputs": []
    },
    {
      "cell_type": "markdown",
      "source": [
        "# Attention computation"
      ],
      "metadata": {
        "id": "sCB__hIZyR_t"
      }
    },
    {
      "cell_type": "markdown",
      "source": [
        "$Attention(Q, K, V) = \\text{softmax}\\left(\\frac{QK^T}{\\sqrt{d_k}}\\right)V$\n",
        "\n",
        "Q, K and V are matrices representing sequences/sentences after embedding. Q is my context sequence B. we divide by dk which is the dimension of each element from each word to the key, it makes the model more stable.</br>\n",
        "\n",
        "\n"
      ],
      "metadata": {
        "id": "jMjFvLwCyVHB"
      }
    },
    {
      "cell_type": "code",
      "source": [
        "def attn_dot_prod_scld(q, k, v, mask):\n",
        "    matmul_qk = tf.matmul(q, k, transpose_b=True)\n",
        "\n",
        "    dk = tf.cast(tf.shape(k)[-1], tf.float32)\n",
        "    attn_logits_scld = matmul_qk / tf.math.sqrt(dk)\n",
        "\n",
        "    if mask is not None:\n",
        "        attn_logits_scld += (mask * -1e9)  \n",
        "\n",
        "    wts_attn = tf.nn.softmax(attn_logits_scld, axis=-1)\n",
        "\n",
        "    output = tf.matmul(wts_attn, v)\n",
        "    return output, wts_attn"
      ],
      "metadata": {
        "id": "B1uMblsnyQ0t"
      },
      "execution_count": null,
      "outputs": []
    },
    {
      "cell_type": "markdown",
      "source": [
        "# Multi-head attention sublayer"
      ],
      "metadata": {
        "id": "4pnZMNf1yeDm"
      }
    },
    {
      "cell_type": "code",
      "metadata": {
        "id": "VKfzlTmsWJTO"
      },
      "source": [
        "class attn_mlti_hds(tf.keras.layers.Layer):\n",
        "    def __init__(self, d_model, num_heads):\n",
        "        super(attn_mlti_hds, self).__init__()\n",
        "        self.num_heads = num_heads\n",
        "        self.d_model = d_model\n",
        "\n",
        "        assert d_model % self.num_heads == 0\n",
        "\n",
        "        self.depth = d_model // self.num_heads\n",
        "\n",
        "        self.wq = tf.keras.layers.Dense(d_model)\n",
        "        self.wk = tf.keras.layers.Dense(d_model)\n",
        "        self.wv = tf.keras.layers.Dense(d_model)\n",
        "\n",
        "        self.dense = tf.keras.layers.Dense(d_model)\n",
        "        \n",
        "    def hd_splt(self, x, batch_size):\n",
        "        x = tf.reshape(x, (batch_size, -1, self.num_heads, self.depth))\n",
        "        return tf.transpose(x, perm=[0, 2, 1, 3])\n",
        "    \n",
        "    def call(self, v, k, q, mask):\n",
        "        batch_size = tf.shape(q)[0]\n",
        "\n",
        "        q = self.wq(q)\n",
        "        k = self.wk(k)\n",
        "        v = self.wv(v)\n",
        "\n",
        "        q = self.hd_splt(q, batch_size)\n",
        "        k = self.hd_splt(k, batch_size)\n",
        "        v = self.hd_splt(v, batch_size)\n",
        "\n",
        "        attn_scld, wts_attn = attn_dot_prod_scld(\n",
        "            q, k, v, mask)\n",
        "\n",
        "        attn_scld = tf.transpose(attn_scld, perm=[0, 2, 1, 3])\n",
        "        \n",
        "        attn_concat = tf.reshape(attn_scld, (batch_size, -1, self.d_model))\n",
        "        output = self.dense(attn_concat)\n",
        "            \n",
        "        return output, wts_attn\n",
        "    \n",
        "def ffnn_pt_wise(d_model, dff):\n",
        "    return tf.keras.Sequential([\n",
        "        tf.keras.layers.Dense(dff, activation='relu'),\n",
        "        tf.keras.layers.Dense(d_model)\n",
        "    ])"
      ],
      "execution_count": null,
      "outputs": []
    },
    {
      "cell_type": "markdown",
      "source": [
        "# Encoder\n",
        "Positional encoding formulae:\n",
        "\n",
        "$PE_{(pos, 2i)} = \\sin(pos/10000^{2i/dmodel})$\n",
        "\n",
        "$PE_{(pos, 2i+1)} = \\cos(pos/10000^{2i/dmodel})$"
      ],
      "metadata": {
        "id": "C85jpePHykXS"
      }
    },
    {
      "cell_type": "code",
      "metadata": {
        "id": "3Q5d7Lw9WNlg"
      },
      "source": [
        "class lr_encdr(tf.keras.layers.Layer):\n",
        "    def __init__(self, d_model, num_heads, dff, rate=0.1):\n",
        "        super(lr_encdr, self).__init__()\n",
        "\n",
        "        self.mha = attn_mlti_hds(d_model, num_heads)\n",
        "        self.ffn = ffnn_pt_wise(d_model, dff)\n",
        "\n",
        "        self.layernorm1 = tf.keras.layers.LayerNormalization(epsilon=1e-6)\n",
        "        self.layernorm2 = tf.keras.layers.LayerNormalization(epsilon=1e-6)\n",
        "\n",
        "        self.dropout1 = tf.keras.layers.Dropout(rate)\n",
        "        self.dropout2 = tf.keras.layers.Dropout(rate)\n",
        "    \n",
        "    def call(self, x, training, mask):\n",
        "        attn_output, _ = self.mha(x, x, x, mask)\n",
        "        attn_output = self.dropout1(attn_output, training=training)\n",
        "        out1 = self.layernorm1(x + attn_output)\n",
        "\n",
        "        ffn_output = self.ffn(out1)\n",
        "        ffn_output = self.dropout2(ffn_output, training=training)\n",
        "        out2 = self.layernorm2(out1 + ffn_output)\n",
        "\n",
        "        return out2"
      ],
      "execution_count": null,
      "outputs": []
    },
    {
      "cell_type": "markdown",
      "source": [
        "# Decoder"
      ],
      "metadata": {
        "id": "WashY2V7yprs"
      }
    },
    {
      "cell_type": "code",
      "metadata": {
        "id": "sHsuR6e2WStT"
      },
      "source": [
        "class lr_dcdr(tf.keras.layers.Layer):\n",
        "    def __init__(self, d_model, num_heads, dff, rate=0.1):\n",
        "        super(lr_dcdr, self).__init__()\n",
        "\n",
        "        self.mha1 = attn_mlti_hds(d_model, num_heads)\n",
        "        self.mha2 = attn_mlti_hds(d_model, num_heads)\n",
        "\n",
        "        self.ffn = ffnn_pt_wise(d_model, dff)\n",
        "\n",
        "        self.layernorm1 = tf.keras.layers.LayerNormalization(epsilon=1e-6)\n",
        "        self.layernorm2 = tf.keras.layers.LayerNormalization(epsilon=1e-6)\n",
        "        self.layernorm3 = tf.keras.layers.LayerNormalization(epsilon=1e-6)\n",
        "\n",
        "        self.dropout1 = tf.keras.layers.Dropout(rate)\n",
        "        self.dropout2 = tf.keras.layers.Dropout(rate)\n",
        "        self.dropout3 = tf.keras.layers.Dropout(rate)\n",
        "    \n",
        "    \n",
        "    def call(self, x, op_enc, training, look_ahead_mask, padding_mask):\n",
        "        attn1, attn_weights_block1 = self.mha1(x, x, x, look_ahead_mask)\n",
        "        attn1 = self.dropout1(attn1, training=training)\n",
        "        out1 = self.layernorm1(attn1 + x)\n",
        "\n",
        "        attn2, attn_weights_block2 = self.mha2(op_enc, op_enc, out1, padding_mask)\n",
        "        attn2 = self.dropout2(attn2, training=training)\n",
        "        out2 = self.layernorm2(attn2 + out1)\n",
        "\n",
        "        ffn_output = self.ffn(out2)\n",
        "        ffn_output = self.dropout3(ffn_output, training=training)\n",
        "        out3 = self.layernorm3(ffn_output + out2)\n",
        "\n",
        "        return out3, attn_weights_block1, attn_weights_block2\n"
      ],
      "execution_count": null,
      "outputs": []
    },
    {
      "cell_type": "code",
      "metadata": {
        "id": "bVjeLAuDWXXV"
      },
      "source": [
        "class Encoder(tf.keras.layers.Layer):\n",
        "    def __init__(self, num_layers, d_model, num_heads, dff, input_vocab_size, encd_position_max, rate=0.1):\n",
        "        super(Encoder, self).__init__()\n",
        "\n",
        "        self.d_model = d_model\n",
        "        self.num_layers = num_layers\n",
        "\n",
        "        self.embedding = tf.keras.layers.Embedding(input_vocab_size, d_model)\n",
        "        self.encd_pos = encd_position(encd_position_max, self.d_model)\n",
        "\n",
        "        self.enc_layers = [lr_encdr(d_model, num_heads, dff, rate) for _ in range(num_layers)]\n",
        "\n",
        "        self.dropout = tf.keras.layers.Dropout(rate)\n",
        "        \n",
        "    def call(self, x, training, mask):\n",
        "        seq_len = tf.shape(x)[1]\n",
        "\n",
        "        x = self.embedding(x)\n",
        "        x *= tf.math.sqrt(tf.cast(self.d_model, tf.float32))\n",
        "        x += self.encd_pos[:, :seq_len, :]\n",
        "\n",
        "        x = self.dropout(x, training=training)\n",
        "    \n",
        "        for i in range(self.num_layers):\n",
        "            x = self.enc_layers[i](x, training, mask)\n",
        "    \n",
        "        return x\n",
        "    \n",
        "class Decoder(tf.keras.layers.Layer):\n",
        "        \n",
        "    def __init__(self, num_layers, d_model, num_heads, dff, target_vocab_size, encd_position_max, rate=0.1):\n",
        "        super(Decoder, self).__init__()\n",
        "\n",
        "        self.d_model = d_model\n",
        "        self.num_layers = num_layers\n",
        "\n",
        "        self.embedding = tf.keras.layers.Embedding(target_vocab_size, d_model)\n",
        "        self.encd_pos = encd_position(encd_position_max, d_model)\n",
        "\n",
        "        self.dec_layers = [lr_dcdr(d_model, num_heads, dff, rate) for _ in range(num_layers)]\n",
        "        self.dropout = tf.keras.layers.Dropout(rate)\n",
        "    \n",
        "    def call(self, x, op_enc, training, look_ahead_mask, padding_mask):\n",
        "        seq_len = tf.shape(x)[1]\n",
        "        wts_attn = {}\n",
        "\n",
        "        x = self.embedding(x)\n",
        "        x *= tf.math.sqrt(tf.cast(self.d_model, tf.float32))\n",
        "        x += self.encd_pos[:, :seq_len, :]\n",
        "\n",
        "        x = self.dropout(x, training=training)\n",
        "\n",
        "        for i in range(self.num_layers):\n",
        "            x, block1, block2 = self.dec_layers[i](x, op_enc, training, look_ahead_mask, padding_mask)\n",
        "\n",
        "            wts_attn['decoder_layer{}_block1'.format(i+1)] = block1\n",
        "            wts_attn['decoder_layer{}_block2'.format(i+1)] = block2\n",
        "    \n",
        "        return x, wts_attn"
      ],
      "execution_count": null,
      "outputs": []
    },
    {
      "cell_type": "markdown",
      "source": [
        "# Transformer\n",
        "[link](https://www.tensorflow.org/text/tutorials/transformer) to tutorial i used for building the Transformer from scratch"
      ],
      "metadata": {
        "id": "k8AXILcAyu8n"
      }
    },
    {
      "cell_type": "code",
      "metadata": {
        "id": "KlMi9zUGWyrl"
      },
      "source": [
        "class Transformer(tf.keras.Model):\n",
        "    def __init__(self, num_layers, d_model, num_heads, dff, input_vocab_size, target_vocab_size, pe_input, pe_target, rate=0.1):\n",
        "        super(Transformer, self).__init__()\n",
        "\n",
        "        self.encoder = Encoder(num_layers, d_model, num_heads, dff, input_vocab_size, pe_input, rate)\n",
        "\n",
        "        self.decoder = Decoder(num_layers, d_model, num_heads, dff, target_vocab_size, pe_target, rate)\n",
        "\n",
        "        self.final_layer = tf.keras.layers.Dense(target_vocab_size)\n",
        "    \n",
        "    def call(self, inp, tar, training, msk_encdr_padding, look_ahead_mask, msk_dcdr_padding):\n",
        "        op_enc = self.encoder(inp, training, msk_encdr_padding)\n",
        "\n",
        "        op_dcdr, wts_attn = self.decoder(tar, op_enc, training, look_ahead_mask, msk_dcdr_padding)\n",
        "\n",
        "        op_resultant = self.final_layer(op_dcdr)\n",
        "\n",
        "        return op_resultant, wts_attn\n"
      ],
      "execution_count": null,
      "outputs": []
    },
    {
      "cell_type": "markdown",
      "source": [
        "# Application"
      ],
      "metadata": {
        "id": "tJRkNGyky8n9"
      }
    },
    {
      "cell_type": "code",
      "metadata": {
        "id": "GpXDJuVTW2n-"
      },
      "source": [
        "nepochs = 20\n",
        "#nepochs = 10\n",
        "d_model = 128\n",
        "num_layers = 4\n",
        "#nepochs = 10\n",
        "num_heads = 8\n",
        "dff = 512\n",
        "#nepochs = 10\n",
        "dropout_rate = 0.1\n"
      ],
      "execution_count": null,
      "outputs": []
    },
    {
      "cell_type": "markdown",
      "metadata": {
        "id": "ZoRe76S6LtRB"
      },
      "source": [
        "# Custom Learning Rate"
      ]
    },
    {
      "cell_type": "code",
      "metadata": {
        "id": "WKdLhN4DW452"
      },
      "source": [
        "class sched_custm(tf.keras.optimizers.schedules.LearningRateSchedule):\n",
        "    def __init__(self, d_model, warmup_steps=4000):\n",
        "        super(sched_custm, self).__init__()\n",
        "\n",
        "        self.d_model = d_model\n",
        "        self.d_model = tf.cast(self.d_model, tf.float32)\n",
        "\n",
        "        self.warmup_steps = warmup_steps\n",
        "    \n",
        "    def __call__(self, step):\n",
        "        arg1 = tf.math.rsqrt(step)\n",
        "        arg2 = step * (self.warmup_steps ** -1.5)\n",
        "\n",
        "        return tf.math.rsqrt(self.d_model) * tf.math.minimum(arg1, arg2)\n"
      ],
      "execution_count": null,
      "outputs": []
    },
    {
      "cell_type": "code",
      "metadata": {
        "id": "gYrWPX4PW-YL"
      },
      "source": [
        "rt_of_lrning = sched_custm(d_model)\n",
        "\n",
        "optimizer = tf.keras.optimizers.Adam(rt_of_lrning, beta_1=0.9, beta_2=0.98, epsilon=1e-9)"
      ],
      "execution_count": null,
      "outputs": []
    },
    {
      "cell_type": "code",
      "metadata": {
        "colab": {
          "base_uri": "https://localhost:8080/",
          "height": 296
        },
        "id": "Q3zSAnFNXBKT",
        "outputId": "aa24ad09-76c7-4a60-8c48-c11b4f6f5876"
      },
      "source": [
        "sched_tmp_lrng_rate = sched_custm(d_model)\n",
        "\n",
        "plt.plot(sched_tmp_lrng_rate(tf.range(40000, dtype=tf.float32)))\n",
        "plt.ylabel(\"Rate of Learning\")\n",
        "plt.xlabel(\"Train Step\")"
      ],
      "execution_count": null,
      "outputs": [
        {
          "output_type": "execute_result",
          "data": {
            "text/plain": [
              "Text(0.5, 0, 'Train Step')"
            ]
          },
          "metadata": {},
          "execution_count": 21
        },
        {
          "output_type": "display_data",
          "data": {
            "image/png": "[encoded data removed]",
            "text/plain": [
              "<Figure size 432x288 with 1 Axes>"
            ]
          },
          "metadata": {
            "needs_background": "light"
          }
        }
      ]
    },
    {
      "cell_type": "markdown",
      "metadata": {
        "id": "X7ogsKZzLzSu"
      },
      "source": [
        "# Custom Accuracy & Loss"
      ]
    },
    {
      "cell_type": "code",
      "metadata": {
        "id": "SPHWl5TkXDHa"
      },
      "source": [
        "obj_loss = tf.keras.losses.SparseCategoricalCrossentropy(from_logits=True, reduction='none')\n",
        "def func_loss(real, pred):\n",
        "    mask = tf.math.logical_not(tf.math.equal(real, 0))\n",
        "    loss_ = obj_loss(real, pred)\n",
        "\n",
        "    mask = tf.cast(mask, dtype=loss_.dtype)\n",
        "    loss_ *= mask\n",
        "\n",
        "    return tf.reduce_sum(loss_)/tf.reduce_sum(mask)\n",
        "\n",
        "\n",
        "def func_acc(real, pred):\n",
        "    accuracies = tf.equal(real, tf.argmax(pred, axis=2))\n",
        "\n",
        "    mask = tf.math.logical_not(tf.math.equal(real, 0))\n",
        "    accuracies = tf.math.logical_and(mask, accuracies)\n",
        "\n",
        "    accuracies = tf.cast(accuracies, dtype=tf.float32)\n",
        "    mask = tf.cast(mask, dtype=tf.float32)\n",
        "    return tf.reduce_sum(accuracies)/tf.reduce_sum(mask)"
      ],
      "execution_count": null,
      "outputs": []
    },
    {
      "cell_type": "code",
      "metadata": {
        "id": "itYFErPBXL_z"
      },
      "source": [
        "loss_tr = tf.keras.metrics.Mean(name='loss_tr')\n",
        "acc_tr = tf.keras.metrics.Mean(name='acc_tr')"
      ],
      "execution_count": null,
      "outputs": []
    },
    {
      "cell_type": "code",
      "metadata": {
        "id": "j43BHxdgXORz"
      },
      "source": [
        "transformer = Transformer(\n",
        "    num_layers=num_layers,\n",
        "    d_model=d_model,\n",
        "    num_heads=num_heads,\n",
        "    dff=dff,\n",
        "    input_vocab_size=vocab_encdr,\n",
        "    target_vocab_size=vocab_dcdr,\n",
        "    pe_input=1000,\n",
        "    pe_target=1000,\n",
        "    rate=dropout_rate)"
      ],
      "execution_count": null,
      "outputs": []
    },
    {
      "cell_type": "code",
      "metadata": {
        "id": "YtthUmj-XQPb"
      },
      "source": [
        "def make_msk(inp, tar):\n",
        "    msk_encdr_padding = make_msk_padding(inp)\n",
        "    msk_dcdr_padding = make_msk_padding(inp)\n",
        "\n",
        "    look_ahead_mask = make_msk_look_ahead(tf.shape(tar)[1])\n",
        "    dec_target_padding_mask = make_msk_padding(tar)\n",
        "    msk_comb = tf.maximum(dec_target_padding_mask, look_ahead_mask)\n",
        "  \n",
        "    return msk_encdr_padding, msk_comb, msk_dcdr_padding"
      ],
      "execution_count": null,
      "outputs": []
    },
    {
      "cell_type": "code",
      "metadata": {
        "id": "YmlV3HmMXSTi"
      },
      "source": [
        "dir_chkpt = \"checkpoints\"\n",
        "\n",
        "chkpt = tf.train.Checkpoint(transformer=transformer, optimizer=optimizer)\n",
        "\n",
        "mngr_chkpt = tf.train.CheckpointManager(chkpt, dir_chkpt, max_to_keep=5)\n",
        "\n",
        "if mngr_chkpt.latest_checkpoint:\n",
        "    chkpt.restore(mngr_chkpt.latest_checkpoint)\n",
        "    print ('updated chkpoint test')"
      ],
      "execution_count": null,
      "outputs": []
    },
    {
      "cell_type": "code",
      "metadata": {
        "id": "4avOaVCzXasA"
      },
      "source": [
        "@tf.function\n",
        "def train_step(inp, tar):\n",
        "    tar_inp = tar[:, :-1]\n",
        "    tar_real = tar[:, 1:]\n",
        "\n",
        "    msk_encdr_padding, msk_comb, msk_dcdr_padding = make_msk(inp, tar_inp)\n",
        "\n",
        "    with tf.GradientTape() as tape:\n",
        "        predictions, _ = transformer(\n",
        "            inp, tar_inp, \n",
        "            True, \n",
        "            msk_encdr_padding, \n",
        "            msk_comb, \n",
        "            msk_dcdr_padding\n",
        "        )\n",
        "        loss = func_loss(tar_real, predictions)\n",
        "\n",
        "    gradients = tape.gradient(loss, transformer.trainable_variables)    \n",
        "    optimizer.apply_gradients(zip(gradients, transformer.trainable_variables))\n",
        "\n",
        "    loss_tr(loss)\n",
        "    acc_tr(func_acc(tar_real, predictions))"
      ],
      "execution_count": null,
      "outputs": []
    },
    {
      "cell_type": "markdown",
      "metadata": {
        "id": "b6VsKASzL6jX"
      },
      "source": [
        "#Model Training"
      ]
    },
    {
      "cell_type": "code",
      "metadata": {
        "colab": {
          "base_uri": "https://localhost:8080/"
        },
        "id": "z4eAM2Y_XgAX",
        "outputId": "ff8de57b-f2bc-4071-8bae-e1c955e7258e"
      },
      "source": [
        "for epoch in range(nepochs):\n",
        "    time_init = time.time()\n",
        "\n",
        "    loss_tr.reset_states()\n",
        "  \n",
        "    for (batch, (inp, tar)) in enumerate(dataset):\n",
        "        train_step(inp, tar)\n",
        "    \n",
        "        if batch % 200 == 0:\n",
        "            print(f'Epoch {epoch + 1} acc {acc_tr.result():.4f} loss {loss_tr.result():.4f} batch_no. {batch}  ')\n",
        "      \n",
        "    if (epoch + 1) % 5 == 0:\n",
        "        dir_chkpt_save = mngr_chkpt.save()\n",
        "        print ('Saving checkpoint for epoch {} at {}'.format(epoch+1, dir_chkpt_save))\n",
        "   \n",
        "    print(f'Epoch {epoch + 1} acc {acc_tr.result():.4f} loss {loss_tr.result():.4f}')\n",
        "    print ('Single epoch took : {} seconds\\n'.format(time.time() - time_init))"
      ],
      "execution_count": null,
      "outputs": [
        {
          "output_type": "stream",
          "name": "stdout",
          "text": [
            "Epoch 1 acc 0.0000 loss 10.8629 batch_no. 0  \n",
            "Epoch 1 acc 0.0427 loss 10.5080 batch_no. 200  \n",
            "Epoch 1 acc 0.0517 loss 9.6748 batch_no. 400  \n",
            "Epoch 1 acc 0.0560 loss 8.9393 batch_no. 600  \n",
            "Epoch 1 acc 0.0644 loss 8.4868 batch_no. 800  \n",
            "Epoch 1 acc 0.0736 loss 8.1596\n",
            "Single epoch took : 565.278332233429 seconds\n",
            "\n",
            "Epoch 2 acc 0.0737 loss 6.8752 batch_no. 0  \n",
            "Epoch 2 acc 0.0823 loss 6.6362 batch_no. 200  \n",
            "Epoch 2 acc 0.0900 loss 6.5562 batch_no. 400  \n",
            "Epoch 2 acc 0.0972 loss 6.4826 batch_no. 600  \n",
            "Epoch 2 acc 0.1036 loss 6.4118 batch_no. 800  \n",
            "Epoch 2 acc 0.1095 loss 6.3461\n",
            "Single epoch took : 553.7737319469452 seconds\n",
            "\n",
            "Epoch 3 acc 0.1095 loss 5.8160 batch_no. 0  \n",
            "Epoch 3 acc 0.1150 loss 5.9772 batch_no. 200  \n",
            "Epoch 3 acc 0.1201 loss 5.9220 batch_no. 400  \n",
            "Epoch 3 acc 0.1251 loss 5.8709 batch_no. 600  \n",
            "Epoch 3 acc 0.1298 loss 5.8211 batch_no. 800  \n",
            "Epoch 3 acc 0.1342 loss 5.7760\n",
            "Single epoch took : 554.051075220108 seconds\n",
            "\n",
            "Epoch 4 acc 0.1342 loss 5.4537 batch_no. 0  \n",
            "Epoch 4 acc 0.1384 loss 5.5000 batch_no. 200  \n",
            "Epoch 4 acc 0.1424 loss 5.4548 batch_no. 400  \n",
            "Epoch 4 acc 0.1464 loss 5.4097 batch_no. 600  \n",
            "Epoch 4 acc 0.1502 loss 5.3711 batch_no. 800  \n",
            "Epoch 4 acc 0.1539 loss 5.3332\n",
            "Single epoch took : 554.4160912036896 seconds\n",
            "\n",
            "Epoch 5 acc 0.1539 loss 5.2058 batch_no. 0  \n",
            "Epoch 5 acc 0.1576 loss 5.0972 batch_no. 200  \n",
            "Epoch 5 acc 0.1612 loss 5.0513 batch_no. 400  \n",
            "Epoch 5 acc 0.1650 loss 4.9997 batch_no. 600  \n",
            "Epoch 5 acc 0.1687 loss 4.9558 batch_no. 800  \n",
            "Saving checkpoint for epoch 5 at checkpoints/ckpt-1\n",
            "Epoch 5 acc 0.1724 loss 4.9126\n",
            "Single epoch took : 555.3174965381622 seconds\n",
            "\n",
            "Epoch 6 acc 0.1724 loss 4.8202 batch_no. 0  \n",
            "Epoch 6 acc 0.1761 loss 4.6595 batch_no. 200  \n",
            "Epoch 6 acc 0.1797 loss 4.6250 batch_no. 400  \n",
            "Epoch 6 acc 0.1834 loss 4.5838 batch_no. 600  \n",
            "Epoch 6 acc 0.1870 loss 4.5521 batch_no. 800  \n",
            "Epoch 6 acc 0.1906 loss 4.5200\n",
            "Single epoch took : 554.2929131984711 seconds\n",
            "\n",
            "Epoch 7 acc 0.1906 loss 4.2291 batch_no. 0  \n",
            "Epoch 7 acc 0.1943 loss 4.3320 batch_no. 200  \n",
            "Epoch 7 acc 0.1978 loss 4.3018 batch_no. 400  \n",
            "Epoch 7 acc 0.2014 loss 4.2694 batch_no. 600  \n",
            "Epoch 7 acc 0.2050 loss 4.2426 batch_no. 800  \n",
            "Epoch 7 acc 0.2084 loss 4.2175\n",
            "Single epoch took : 554.2845838069916 seconds\n",
            "\n",
            "Epoch 8 acc 0.2085 loss 4.1826 batch_no. 0  \n",
            "Epoch 8 acc 0.2119 loss 4.0769 batch_no. 200  \n",
            "Epoch 8 acc 0.2153 loss 4.0488 batch_no. 400  \n",
            "Epoch 8 acc 0.2187 loss 4.0194 batch_no. 600  \n",
            "Epoch 8 acc 0.2221 loss 3.9990 batch_no. 800  \n",
            "Epoch 8 acc 0.2254 loss 3.9800\n",
            "Single epoch took : 554.948573589325 seconds\n",
            "\n",
            "Epoch 9 acc 0.2254 loss 3.8343 batch_no. 0  \n",
            "Epoch 9 acc 0.2287 loss 3.8636 batch_no. 200  \n",
            "Epoch 9 acc 0.2320 loss 3.8447 batch_no. 400  \n",
            "Epoch 9 acc 0.2352 loss 3.8195 batch_no. 600  \n",
            "Epoch 9 acc 0.2384 loss 3.8044 batch_no. 800  \n",
            "Epoch 9 acc 0.2416 loss 3.7901\n",
            "Single epoch took : 554.2505114078522 seconds\n",
            "\n",
            "Epoch 10 acc 0.2416 loss 4.2214 batch_no. 0  \n",
            "Epoch 10 acc 0.2447 loss 3.6952 batch_no. 200  \n",
            "Epoch 10 acc 0.2477 loss 3.6750 batch_no. 400  \n",
            "Epoch 10 acc 0.2508 loss 3.6566 batch_no. 600  \n",
            "Epoch 10 acc 0.2538 loss 3.6453 batch_no. 800  \n",
            "Saving checkpoint for epoch 10 at checkpoints/ckpt-2\n",
            "Epoch 10 acc 0.2568 loss 3.6344\n",
            "Single epoch took : 555.5219919681549 seconds\n",
            "\n",
            "Epoch 11 acc 0.2568 loss 3.6291 batch_no. 0  \n",
            "Epoch 11 acc 0.2598 loss 3.5595 batch_no. 200  \n",
            "Epoch 11 acc 0.2627 loss 3.5459 batch_no. 400  \n",
            "Epoch 11 acc 0.2655 loss 3.5335 batch_no. 600  \n",
            "Epoch 11 acc 0.2684 loss 3.5252 batch_no. 800  \n",
            "Epoch 11 acc 0.2712 loss 3.5177\n",
            "Single epoch took : 554.9436807632446 seconds\n",
            "\n",
            "Epoch 12 acc 0.2712 loss 3.7190 batch_no. 0  \n",
            "Epoch 12 acc 0.2739 loss 3.4795 batch_no. 200  \n",
            "Epoch 12 acc 0.2766 loss 3.4703 batch_no. 400  \n",
            "Epoch 12 acc 0.2793 loss 3.4568 batch_no. 600  \n",
            "Epoch 12 acc 0.2820 loss 3.4472 batch_no. 800  \n",
            "Epoch 12 acc 0.2846 loss 3.4408\n",
            "Single epoch took : 555.3909442424774 seconds\n",
            "\n",
            "Epoch 13 acc 0.2846 loss 3.5503 batch_no. 0  \n",
            "Epoch 13 acc 0.2872 loss 3.3933 batch_no. 200  \n",
            "Epoch 13 acc 0.2897 loss 3.3811 batch_no. 400  \n",
            "Epoch 13 acc 0.2923 loss 3.3705 batch_no. 600  \n",
            "Epoch 13 acc 0.2947 loss 3.3605 batch_no. 800  \n",
            "Epoch 13 acc 0.2972 loss 3.3521\n",
            "Single epoch took : 555.1821441650391 seconds\n",
            "\n",
            "Epoch 14 acc 0.2972 loss 3.3780 batch_no. 0  \n",
            "Epoch 14 acc 0.2996 loss 3.2949 batch_no. 200  \n",
            "Epoch 14 acc 0.3020 loss 3.2853 batch_no. 400  \n",
            "Epoch 14 acc 0.3044 loss 3.2738 batch_no. 600  \n",
            "Epoch 14 acc 0.3067 loss 3.2631 batch_no. 800  \n",
            "Epoch 14 acc 0.3091 loss 3.2569\n",
            "Single epoch took : 554.7674286365509 seconds\n",
            "\n",
            "Epoch 15 acc 0.3091 loss 3.4092 batch_no. 0  \n",
            "Epoch 15 acc 0.3114 loss 3.1997 batch_no. 200  \n",
            "Epoch 15 acc 0.3136 loss 3.1868 batch_no. 400  \n",
            "Epoch 15 acc 0.3159 loss 3.1744 batch_no. 600  \n",
            "Epoch 15 acc 0.3181 loss 3.1659 batch_no. 800  \n",
            "Saving checkpoint for epoch 15 at checkpoints/ckpt-3\n",
            "Epoch 15 acc 0.3203 loss 3.1596\n",
            "Single epoch took : 555.5053541660309 seconds\n",
            "\n",
            "Epoch 16 acc 0.3203 loss 3.0973 batch_no. 0  \n",
            "Epoch 16 acc 0.3225 loss 3.1028 batch_no. 200  \n",
            "Epoch 16 acc 0.3247 loss 3.0924 batch_no. 400  \n",
            "Epoch 16 acc 0.3268 loss 3.0810 batch_no. 600  \n",
            "Epoch 16 acc 0.3289 loss 3.0743 batch_no. 800  \n",
            "Epoch 16 acc 0.3310 loss 3.0681\n",
            "Single epoch took : 555.0396926403046 seconds\n",
            "\n",
            "Epoch 17 acc 0.3310 loss 3.3609 batch_no. 0  \n",
            "Epoch 17 acc 0.3331 loss 3.0070 batch_no. 200  \n",
            "Epoch 17 acc 0.3351 loss 2.9984 batch_no. 400  \n",
            "Epoch 17 acc 0.3372 loss 2.9894 batch_no. 600  \n",
            "Epoch 17 acc 0.3392 loss 2.9848 batch_no. 800  \n",
            "Epoch 17 acc 0.3412 loss 2.9800\n",
            "Single epoch took : 554.598806142807 seconds\n",
            "\n",
            "Epoch 18 acc 0.3412 loss 3.1941 batch_no. 0  \n",
            "Epoch 18 acc 0.3432 loss 2.9139 batch_no. 200  \n",
            "Epoch 18 acc 0.3451 loss 2.9193 batch_no. 400  \n",
            "Epoch 18 acc 0.3471 loss 2.9088 batch_no. 600  \n",
            "Epoch 18 acc 0.3490 loss 2.9057 batch_no. 800  \n",
            "Epoch 18 acc 0.3509 loss 2.9010\n",
            "Single epoch took : 554.7599744796753 seconds\n",
            "\n",
            "Epoch 19 acc 0.3509 loss 3.1342 batch_no. 0  \n",
            "Epoch 19 acc 0.3528 loss 2.8477 batch_no. 200  \n",
            "Epoch 19 acc 0.3546 loss 2.8451 batch_no. 400  \n",
            "Epoch 19 acc 0.3565 loss 2.8359 batch_no. 600  \n",
            "Epoch 19 acc 0.3583 loss 2.8323 batch_no. 800  \n",
            "Epoch 19 acc 0.3601 loss 2.8283\n",
            "Single epoch took : 554.7092080116272 seconds\n",
            "\n",
            "Epoch 20 acc 0.3601 loss 2.9432 batch_no. 0  \n",
            "Epoch 20 acc 0.3619 loss 2.7748 batch_no. 200  \n",
            "Epoch 20 acc 0.3637 loss 2.7761 batch_no. 400  \n",
            "Epoch 20 acc 0.3655 loss 2.7657 batch_no. 600  \n",
            "Epoch 20 acc 0.3672 loss 2.7641 batch_no. 800  \n",
            "Saving checkpoint for epoch 20 at checkpoints/ckpt-4\n",
            "Epoch 20 acc 0.3689 loss 2.7602\n",
            "Single epoch took : 555.6550779342651 seconds\n",
            "\n"
          ]
        }
      ]
    },
    {
      "cell_type": "code",
      "metadata": {
        "id": "5uPDgjlhX9Et"
      },
      "source": [
        "def mod_eval(text):\n",
        "    text = tkniser_en.texts_to_sequences([text])\n",
        "    text = tf.keras.preprocessing.sequence.pad_sequences(text, maxlen=len_enc, \n",
        "                                                                   padding='post', truncating='post')\n",
        "\n",
        "    ip_encdr = tf.expand_dims(text[0], 0)\n",
        "\n",
        "    ip_dcrdr = [tkniser_hi.word_index['<sos>']]\n",
        "    output = tf.expand_dims(ip_dcrdr, 0)\n",
        "    \n",
        "    for i in range(len_dcdr):\n",
        "        msk_encdr_padding, msk_comb, msk_dcdr_padding = make_msk(ip_encdr, output)\n",
        "\n",
        "        predictions, wts_attn = transformer(\n",
        "            ip_encdr, \n",
        "            output,\n",
        "            False,\n",
        "            msk_encdr_padding,\n",
        "            msk_comb,\n",
        "            msk_dcdr_padding\n",
        "        )\n",
        "\n",
        "        predictions = predictions[: ,-1:, :]\n",
        "        predicted_id = tf.cast(tf.argmax(predictions, axis=-1), tf.int32)\n",
        "\n",
        "        if predicted_id == tkniser_hi.word_index['<eos>']:\n",
        "            return tf.squeeze(output, axis=0), wts_attn\n",
        "\n",
        "        output = tf.concat([output, predicted_id], axis=-1)\n",
        "\n",
        "    return tf.squeeze(output, axis=0), wts_attn"
      ],
      "execution_count": null,
      "outputs": []
    },
    {
      "cell_type": "code",
      "metadata": {
        "id": "5e4FAaoNbpbE"
      },
      "source": [
        "def translate(txtin_english):\n",
        "    txtin_hindi = mod_eval(text=txtin_english)[0].numpy()\n",
        "    txtin_hindi = np.expand_dims(txtin_hindi[1:], 0)  \n",
        "    return tkniser_hi.sequences_to_texts(txtin_hindi)[0]"
      ],
      "execution_count": null,
      "outputs": []
    },
    {
      "cell_type": "markdown",
      "metadata": {
        "id": "xIghAKjAMBfU"
      },
      "source": [
        "# Predictions"
      ]
    },
    {
      "cell_type": "code",
      "metadata": {
        "colab": {
          "base_uri": "https://localhost:8080/",
          "height": 35
        },
        "id": "xA09eMYNbtn4",
        "outputId": "86241336-9a5c-4e09-c93a-a809abb9bc07"
      },
      "source": [
        "translate(\"My name is Shambhavi.\")\n"
      ],
      "execution_count": null,
      "outputs": [
        {
          "output_type": "execute_result",
          "data": {
            "application/vnd.google.colaboratory.intrinsic+json": {
              "type": "string"
            },
            "text/plain": [
              "'मेरा नाम तमिल नाम है।'"
            ]
          },
          "metadata": {},
          "execution_count": 33
        }
      ]
    },
    {
      "cell_type": "code",
      "metadata": {
        "colab": {
          "base_uri": "https://localhost:8080/",
          "height": 35
        },
        "id": "qzB1GJcpbw63",
        "outputId": "919e1d1d-53f5-4700-d83c-062a266906f7"
      },
      "source": [
        "translate(\"It's a beautiful place.\")"
      ],
      "execution_count": null,
      "outputs": [
        {
          "output_type": "execute_result",
          "data": {
            "application/vnd.google.colaboratory.intrinsic+json": {
              "type": "string"
            },
            "text/plain": [
              "'यह एक छोटी इमारतें है खास तौर पर बहुत बड़ा है।'"
            ]
          },
          "metadata": {},
          "execution_count": 31
        }
      ]
    },
    {
      "cell_type": "code",
      "metadata": {
        "id": "08YYdQC6FySA",
        "colab": {
          "base_uri": "https://localhost:8080/",
          "height": 35
        },
        "outputId": "f2f6fbd0-bbd6-4480-ad23-0a6e72da5e4e"
      },
      "source": [
        "translate(\"She gave him a watch.\")"
      ],
      "execution_count": null,
      "outputs": [
        {
          "output_type": "execute_result",
          "data": {
            "application/vnd.google.colaboratory.intrinsic+json": {
              "type": "string"
            },
            "text/plain": [
              "'वो एक महान उपहार थे ।'"
            ]
          },
          "metadata": {},
          "execution_count": 32
        }
      ]
    },
    {
      "cell_type": "code",
      "metadata": {
        "colab": {
          "base_uri": "https://localhost:8080/",
          "height": 35
        },
        "id": "DtGLYmoldkbl",
        "outputId": "a8d73b0e-298e-47c1-8de9-71dc06bca233"
      },
      "source": [
        "translate(\"thank you\")"
      ],
      "execution_count": null,
      "outputs": [
        {
          "output_type": "execute_result",
          "data": {
            "application/vnd.google.colaboratory.intrinsic+json": {
              "type": "string"
            },
            "text/plain": [
              "'धन्यवाद धन्यवाद धन्यवाद धन्यवाद धन्यवाद धन्यवाद धन्यवाद'"
            ]
          },
          "metadata": {},
          "execution_count": 33
        }
      ]
    },
    {
      "cell_type": "code",
      "metadata": {
        "colab": {
          "base_uri": "https://localhost:8080/",
          "height": 35
        },
        "id": "zpNw6mVydxXU",
        "outputId": "1a855aa2-d93d-403c-803c-30b0380d1b57"
      },
      "source": [
        "translate(\"Where do we go?\")"
      ],
      "execution_count": null,
      "outputs": [
        {
          "output_type": "execute_result",
          "data": {
            "application/vnd.google.colaboratory.intrinsic+json": {
              "type": "string"
            },
            "text/plain": [
              "'जहाँ हम कहाँ कहाँ करते हैं'"
            ]
          },
          "metadata": {},
          "execution_count": 34
        }
      ]
    },
    {
      "cell_type": "code",
      "metadata": {
        "colab": {
          "base_uri": "https://localhost:8080/",
          "height": 35
        },
        "id": "GBU8wFL1d3yQ",
        "outputId": "cad69a15-b42c-4124-e752-ce5062c56c44"
      },
      "source": [
        "translate(\"I am going home.\")"
      ],
      "execution_count": null,
      "outputs": [
        {
          "output_type": "execute_result",
          "data": {
            "application/vnd.google.colaboratory.intrinsic+json": {
              "type": "string"
            },
            "text/plain": [
              "'मैं घर घर में बाहर जाती हूँ'"
            ]
          },
          "metadata": {},
          "execution_count": 35
        }
      ]
    },
    {
      "cell_type": "code",
      "metadata": {
        "colab": {
          "base_uri": "https://localhost:8080/",
          "height": 35
        },
        "id": "MCju8nFgeHoE",
        "outputId": "c0dbdee1-f8ae-4605-b8fa-5e92c81c59a5"
      },
      "source": [
        "translate(\"I have to go.\")"
      ],
      "execution_count": null,
      "outputs": [
        {
          "output_type": "execute_result",
          "data": {
            "application/vnd.google.colaboratory.intrinsic+json": {
              "type": "string"
            },
            "text/plain": [
              "'मुझे हमेशा देखना होगा'"
            ]
          },
          "metadata": {},
          "execution_count": 36
        }
      ]
    },
    {
      "cell_type": "code",
      "metadata": {
        "colab": {
          "base_uri": "https://localhost:8080/",
          "height": 35
        },
        "id": "anZaGnLBeOOj",
        "outputId": "2c02e907-a2c8-4902-fd04-94643c4b3a04"
      },
      "source": [
        "translate(\"That is a cat.\")"
      ],
      "execution_count": null,
      "outputs": [
        {
          "output_type": "execute_result",
          "data": {
            "application/vnd.google.colaboratory.intrinsic+json": {
              "type": "string"
            },
            "text/plain": [
              "'कि ये एक रंग है जिसमें कि एक रंग'"
            ]
          },
          "metadata": {},
          "execution_count": 37
        }
      ]
    },
    {
      "cell_type": "code",
      "metadata": {
        "colab": {
          "base_uri": "https://localhost:8080/",
          "height": 35
        },
        "id": "Op55wfIueaQN",
        "outputId": "2289d70b-1ae1-455d-8ec2-463e5d848e14"
      },
      "source": [
        "translate(\"That politics , in retrospect , was rooted in a false ideology.\")"
      ],
      "execution_count": null,
      "outputs": [
        {
          "output_type": "execute_result",
          "data": {
            "application/vnd.google.colaboratory.intrinsic+json": {
              "type": "string"
            },
            "text/plain": [
              "'इतिहास में आतंकवाद का एक राजनैतिक मुद्दा है'"
            ]
          },
          "metadata": {},
          "execution_count": 38
        }
      ]
    },
    {
      "cell_type": "code",
      "metadata": {
        "id": "m2171yeVeqlA"
      },
      "source": [
        ""
      ],
      "execution_count": null,
      "outputs": []
    }
  ]
}